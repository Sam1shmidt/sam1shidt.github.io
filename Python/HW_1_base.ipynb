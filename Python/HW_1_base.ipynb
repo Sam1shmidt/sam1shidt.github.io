{
 "cells": [
  {
   "cell_type": "code",
   "execution_count": null,
   "id": "2a41d58f",
   "metadata": {},
   "outputs": [],
   "source": [
    "coffee_str = input('Сколько чашек кофе вы желаете?') \n",
    "coffee = int(coffee_str)\n",
    "free_coffee = int(coffee/6)\n",
    "print(free_coffee)"
   ]
  },
  {
   "cell_type": "code",
   "execution_count": 5,
   "id": "113b5a33",
   "metadata": {},
   "outputs": [
    {
     "name": "stdout",
     "output_type": "stream",
     "text": [
      "Задайте коордитану x для точки А1\n",
      "Задайте коордитану y для точки А1\n",
      "Задайте коордитану x для точки Б2\n",
      "Задайте коордитану y для точки Б5\n",
      "4.123\n"
     ]
    }
   ],
   "source": [
    "import math\n",
    "x1 = int(input('Задайте коордитану x для точки А'))\n",
    "y1 = int(input('Задайте коордитану y для точки А'))\n",
    "x2 = int(input('Задайте коордитану x для точки Б'))\n",
    "y2 = int(input('Задайте коордитану y для точки Б'))\n",
    "d = round(math.sqrt((x2-x1)**2+(y2-y1)**2),3)\n",
    "print(d)"
   ]
  },
  {
   "cell_type": "code",
   "execution_count": 6,
   "id": "e6283cce",
   "metadata": {},
   "outputs": [
    {
     "name": "stdout",
     "output_type": "stream",
     "text": [
      "Сколько куриц?2\n",
      "Сколько коров?2\n",
      "Сколько свиней?2\n",
      "20\n"
     ]
    }
   ],
   "source": [
    "chicken = int(input('Сколько куриц?'))\n",
    "cows = int(input('Сколько коров?'))\n",
    "pigs = int(input('Сколько свиней?'))\n",
    "legs_chicken =chicken*2\n",
    "legs_cows =cows*4\n",
    "legs_pigs =pigs*4\n",
    "answer = legs_chicken+legs_cows+legs_pigs\n",
    "print(answer)"
   ]
  },
  {
   "cell_type": "code",
   "execution_count": null,
   "id": "e5c4d585",
   "metadata": {},
   "outputs": [],
   "source": []
  }
 ],
 "metadata": {
  "kernelspec": {
   "display_name": "Python 3 (ipykernel)",
   "language": "python",
   "name": "python3"
  },
  "language_info": {
   "codemirror_mode": {
    "name": "ipython",
    "version": 3
   },
   "file_extension": ".py",
   "mimetype": "text/x-python",
   "name": "python",
   "nbconvert_exporter": "python",
   "pygments_lexer": "ipython3",
   "version": "3.9.7"
  }
 },
 "nbformat": 4,
 "nbformat_minor": 5
}
