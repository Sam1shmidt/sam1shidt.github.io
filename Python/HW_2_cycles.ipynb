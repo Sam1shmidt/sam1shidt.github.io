{
 "cells": [
  {
   "cell_type": "code",
   "execution_count": 1,
   "id": "496acb37",
   "metadata": {},
   "outputs": [
    {
     "name": "stdout",
     "output_type": "stream",
     "text": [
      "Введите количество строк:5\n",
      "*\n",
      "**\n",
      "***\n",
      "****\n",
      "*****\n"
     ]
    }
   ],
   "source": [
    "line = int(input('Введите количество строк:'))\n",
    "for x in range(line):\n",
    "    print('*'*(x+1))"
   ]
  },
  {
   "cell_type": "code",
   "execution_count": 2,
   "id": "3d059e0b",
   "metadata": {},
   "outputs": [
    {
     "name": "stdout",
     "output_type": "stream",
     "text": [
      "Введите число:5\n",
      "0 is even\n",
      "1 is odd\n",
      "2 is even\n",
      "3 is odd\n",
      "4 is even\n",
      "5 is odd\n"
     ]
    }
   ],
   "source": [
    "number = int(input('Введите число:'))\n",
    "for z in range(number+1):\n",
    "    if z%2==0:\n",
    "        print(f'{z} is even')\n",
    "    else:\n",
    "        print(f'{z} is odd')"
   ]
  },
  {
   "cell_type": "code",
   "execution_count": null,
   "id": "d76a36f4",
   "metadata": {},
   "outputs": [],
   "source": []
  },
  {
   "cell_type": "code",
   "execution_count": 3,
   "id": "c6e8f7e2",
   "metadata": {},
   "outputs": [
    {
     "name": "stdout",
     "output_type": "stream",
     "text": [
      "Введите число:5\n",
      "Ваше число меньше\n",
      "Введите число:5\n",
      "Ваше число меньше\n",
      "Введите число:5\n",
      "Ваше число меньше\n",
      "Введите число:5\n",
      "Ваше число меньше\n",
      "Введите число:5\n",
      "Ваше число меньше\n",
      "Введите число:5\n",
      "Ваше число меньше\n",
      "Прости, но ты не справился! Моё число:14\n"
     ]
    }
   ],
   "source": [
    "import random \n",
    "tries = 0\n",
    "number = random.randint(1,50)\n",
    "while tries<6:\n",
    "    tries+=1\n",
    "    guess = int(input('Введите число:'))\n",
    "    if guess<number:\n",
    "        print('Ваше число меньше')\n",
    "    if guess>number:\n",
    "        print('Ваше число больше')\n",
    "    if x==number:\n",
    "        print(f'Поздравляем! Вы справились за {tries} попыток)')\n",
    "        break\n",
    "    if x!=number and tries ==6:\n",
    "        print(f'Прости, но ты не справился! Моё число:{number}')\n",
    "        break\n",
    "    "
   ]
  },
  {
   "cell_type": "code",
   "execution_count": null,
   "id": "1109b1d3",
   "metadata": {},
   "outputs": [
    {
     "name": "stdout",
     "output_type": "stream",
     "text": [
      "Введите R/S/Pr\n",
      "Выбор компьютера = e\n",
      "Победа за компьютером\n",
      "Хотите ещё? [y/n]y\n",
      "Введите R/S/Ps\n",
      "Выбор компьютера = e\n",
      "Победа за компьютером\n",
      "Хотите ещё? [y/n]y\n",
      "Введите R/S/Pp\n",
      "Выбор компьютера = s\n",
      "Победа за компьютером\n",
      "Хотите ещё? [y/n]y\n",
      "Введите R/S/Pp\n",
      "Выбор компьютера = s\n",
      "Победа за компьютером\n",
      "Хотите ещё? [y/n]y\n",
      "Введите R/S/Pp\n",
      "Выбор компьютера = e\n",
      "Победа за компьютером\n",
      "Хотите ещё? [y/n]y\n",
      "Введите R/S/Pp\n",
      "Выбор компьютера = s\n",
      "Победа за компьютером\n",
      "Хотите ещё? [y/n]y\n",
      "Введите R/S/Pp\n",
      "Выбор компьютера = s\n",
      "Победа за компьютером\n",
      "Хотите ещё? [y/n]y\n",
      "Введите R/S/Pp\n",
      "Выбор компьютера = p\n",
      "Ничья\n"
     ]
    }
   ],
   "source": [
    "import random\n",
    "game_continue = True\n",
    "while game_continue:\n",
    "    player_ch = input('Введите R/S/P').lower()\n",
    "    if player_ch not in ['r','s','p']:\n",
    "        print('Неверное значение!')\n",
    "        continue\n",
    "    gen ={1:'e',2:'s',3:'p'}\n",
    "    comp_ch=gen[random.randint(1,3)]\n",
    "    print(f'Выбор компьютера = {comp_ch}')\n",
    "    winning_c = [('p','r'),('r','s'),('s','p')]\n",
    "    if player_ch==comp_ch:\n",
    "        print('Ничья')\n",
    "    elif (player_ch, comp_ch) in winning_c:\n",
    "        print('Вы победили!')\n",
    "    else:\n",
    "        print('Победа за компьютером')\n",
    "    game_continue = input('Хотите ещё? [y/n]').lower() == 'y'\n",
    "        "
   ]
  },
  {
   "cell_type": "code",
   "execution_count": null,
   "id": "28384667",
   "metadata": {},
   "outputs": [],
   "source": []
  },
  {
   "cell_type": "code",
   "execution_count": null,
   "id": "d7f18f35",
   "metadata": {},
   "outputs": [],
   "source": []
  }
 ],
 "metadata": {
  "kernelspec": {
   "display_name": "Python 3 (ipykernel)",
   "language": "python",
   "name": "python3"
  },
  "language_info": {
   "codemirror_mode": {
    "name": "ipython",
    "version": 3
   },
   "file_extension": ".py",
   "mimetype": "text/x-python",
   "name": "python",
   "nbconvert_exporter": "python",
   "pygments_lexer": "ipython3",
   "version": "3.9.7"
  }
 },
 "nbformat": 4,
 "nbformat_minor": 5
}
